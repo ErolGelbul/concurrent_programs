{
 "cells": [
  {
   "cell_type": "markdown",
   "metadata": {},
   "source": [
    "# 6COM1034 Concurrency - Practical\n",
    "## 1st session - week starting 1st February\n",
    "\n",
    "Congratulations to successfully starting your notebook!\n",
    "\n",
    "This is the first of a series of notebooks in which we will practise concurrency in Python. Finally, we will CODE a little concurrent python!\n",
    "\n",
    "Learning outcomes:\n",
    "\n",
    "1. Learn how to use IPython/Jupyter notebooks, \n",
    "2. Know the essential libraries for concurrent programming in Python.\n",
    "3. Awareness for problems arising from concurrent access to shared state variables without proper synchronisation.\n",
    "\n",
    "All tutorial exercises are __self-assessed__, which means that you control your progress. But feel free to share your progress with other students and with the tutor!"
   ]
  },
  {
   "cell_type": "markdown",
   "metadata": {},
   "source": [
    "## 1. Introduction to Jupyter notebooks\n",
    "\n",
    "Notebooks are a way of interactive computing with Python that allows you to document your work as you write the code. They have originated with IPython (http://ipython.org), a beefed-up version of the Python shell. Notebooks have since grown into a project of their own, Jupyter (http://jupyter.org). \n",
    "\n",
    "University computer still have a older version of IPython installed, therefore the notebooks are called \"IPython notebooks\"."
   ]
  },
  {
   "cell_type": "markdown",
   "metadata": {},
   "source": [
    "### 1.1 Using a notebook\n",
    "\n",
    "Please take a moment to make yourself familar yourself with the notebook. In particular, please have a look at the keyboard shortcuts in the help menu - chances are they will make your life a lot easier ;)\n",
    "\n",
    "The notebook consists of cells of text (like this one), and cells of code (like the one below). To execute a code cell, select it with the arrow keys and press \"Shift\" + \"Enter\". \n",
    "\n",
    "Try it below."
   ]
  },
  {
   "cell_type": "code",
   "execution_count": null,
   "metadata": {},
   "outputs": [],
   "source": [
    "a = 5\n",
    "b = 3"
   ]
  },
  {
   "cell_type": "markdown",
   "metadata": {},
   "source": [
    "The above cell has defined the variables '`a`' and '`b`'. They are now defined in the underlying \"*kernel*\" - this is simply an instance of Python that is running 'behind the scenes' of the notebook.\n",
    "\n",
    "We can access these variables in the next cell:"
   ]
  },
  {
   "cell_type": "code",
   "execution_count": null,
   "metadata": {},
   "outputs": [],
   "source": [
    "c = a + b\n",
    "print(\"c has been assigned the value {}.\".format(c))"
   ]
  },
  {
   "cell_type": "markdown",
   "metadata": {},
   "source": [
    "Note that the output of the `print()` statement appears below the cell when you execute it."
   ]
  },
  {
   "cell_type": "markdown",
   "metadata": {},
   "source": [
    "<hr/>\n",
    "### Exercise 1\n",
    "\n",
    "Modify `a` and `b` in the cell above and execute it. Then execute the cell that prints the variable `c`. What happens?\n",
    "\n",
    "<br/>\n",
    "\n",
    "<hr/>"
   ]
  },
  {
   "cell_type": "markdown",
   "metadata": {},
   "source": [
    "### Exercise 2\n",
    "\n",
    "1. Execute the cells below. What happens when you execute the second cell?\n",
    "2. Please fix the error by assigning a value to the variable `c` that won't result in an error."
   ]
  },
  {
   "cell_type": "code",
   "execution_count": null,
   "metadata": {},
   "outputs": [],
   "source": [
    "a = 1\n",
    "b = 2\n",
    "c = 3"
   ]
  },
  {
   "cell_type": "code",
   "execution_count": null,
   "metadata": {},
   "outputs": [],
   "source": [
    "d = (a + b)\n",
    "e = d/c\n",
    "print(\"Finally fixed it\", e)"
   ]
  },
  {
   "cell_type": "markdown",
   "metadata": {},
   "source": [
    "<hr/>"
   ]
  },
  {
   "cell_type": "markdown",
   "metadata": {},
   "source": [
    "## 2. Libraries for concurrent programming in Python\n",
    "\n",
    "There are two principal libraries, called _modules_, included in Python that support concurrent programming: `threading` and `multiprocessing`.\n",
    "\n",
    "1. [threading](https://docs.python.org/2/library/threading.html)\n",
    "2. [multiprocessing](https://docs.python.org/2/library/multiprocessing.html)\n",
    "\n",
    "(Hint: You may want to open browser tabs with these links - they point to the official documentation for the modules.)\n",
    "\n",
    "The name say's it all - '`threading`' is about using threads, '`multiprocessing`' is about using multiple processes.\n",
    "\n",
    "Let's start with the `threading` module. \n",
    "\n"
   ]
  },
  {
   "cell_type": "markdown",
   "metadata": {},
   "source": [
    "### 2.1 Using `threading` for the \"Bank Account\" example\n",
    "\n",
    "We will use the `threading` module to simulate the \"Bank Account\" scenario from the lecture and the tutorial.\n",
    "\n",
    "Imagine John, Paul, and Mary each having concurrent access to a shared bank account. The bank account initially has £100 in it. They each make a transaction:\n",
    "\n",
    " - John makes a deposit of £10\n",
    " - Paul withdraws £20\n",
    " - Mary withdraws half of the balance she sees.\n",
    "\n",
    "Let's implement each person as a `Thread` object. The first step is to import the `threading` library."
   ]
  },
  {
   "cell_type": "code",
   "execution_count": null,
   "metadata": {},
   "outputs": [],
   "source": [
    "import threading as th"
   ]
  },
  {
   "cell_type": "markdown",
   "metadata": {},
   "source": [
    "__Note__: Jupyter notebooks provide a quick and convenient way to access the documentation of any class or function - just add a question mark `?` after the statement. Please have a look at the documentation of the `Thread` class by executing the following cell.\n",
    "\n",
    "You can close the help viewer either __by pressing the '`q`' key__, or by clicking the small __X__ in the top right of the help window."
   ]
  },
  {
   "cell_type": "code",
   "execution_count": null,
   "metadata": {},
   "outputs": [],
   "source": [
    "th.Thread?"
   ]
  },
  {
   "cell_type": "markdown",
   "metadata": {},
   "source": [
    "The following part of the documentation is of particular relevance because it tells us how to make a `Thread` object do something\n",
    "\n",
    "```There are two ways to specify the activity: \n",
    "by passing a callable object to the constructor, or\n",
    "by overriding the run() method in a subclass.```\n",
    "\n",
    "We will choose the first option here, to pass a callable object to the constructor."
   ]
  },
  {
   "cell_type": "markdown",
   "metadata": {},
   "source": [
    " We will be using the `withdraw` function from the tutorial to manipulate the balance (see below). Note that calling `withdraw` with a negative amount will make a deposit."
   ]
  },
  {
   "cell_type": "markdown",
   "metadata": {},
   "source": [
    "__NOTE__: Using a shared state variable between threads (`balance` in this case) without proper synchronisation is __BAD PROGRAMMING STYLE__ and should be avoided. We use it here for educational purposes only, to show you how __things go utterly wrong__ when doing this. \n",
    "\n"
   ]
  },
  {
   "cell_type": "code",
   "execution_count": null,
   "metadata": {},
   "outputs": [],
   "source": [
    "balance = 100\n",
    "\n",
    "def threaded_withdraw(amount):\n",
    "    global balance # this allows us to access the 'balance' variable \n",
    "    if (balance >= amount):\n",
    "        import threading # we need to import this to get access to the 'current_thread' function.\n",
    "        print(\"{} sees balance {}, withdraws {}\".format(threading.current_thread(),\n",
    "                                                        balance,\n",
    "                                                        amount))\n",
    "        balance = balance - amount; \n",
    "        return True;\n",
    "    return False;\n"
   ]
  },
  {
   "cell_type": "markdown",
   "metadata": {},
   "source": [
    "The important thing here is the `target` argument in the constructor. It lets us define a function that the Thread's `run` method will call. We can provide parameters for the function to be called through the `args` argument in the constructor.\n",
    "\n",
    "The Thread should call the `withdraw` method with the appropriate amount. Let's make threads for the transactions by John and Paul:"
   ]
  },
  {
   "cell_type": "code",
   "execution_count": null,
   "metadata": {},
   "outputs": [],
   "source": [
    "transaction_john = th.Thread(target=threaded_withdraw, args=(-10,), name='John')\n",
    "transaction_paul = th.Thread(target=threaded_withdraw, args=(20,), name='Paul')"
   ]
  },
  {
   "cell_type": "markdown",
   "metadata": {},
   "source": [
    "Mary's transaction is a bit more complicated, since we need to get the balance first. We'll use a custom function for this and make it the target of Mary's transaction thread."
   ]
  },
  {
   "cell_type": "code",
   "execution_count": null,
   "metadata": {},
   "outputs": [],
   "source": [
    "def threaded_withdraw_mary():\n",
    "    global balance\n",
    "    amount = balance/2.\n",
    "    if (balance >= amount):\n",
    "        import threading\n",
    "        print(\"{} sees balance {}, withdraws {}\".format(threading.current_thread(),\n",
    "                                                        balance,\n",
    "                                                        amount))\n",
    "        balance = balance - amount; \n",
    "        return True;\n",
    "    return False;\n",
    "\n",
    "transaction_mary = th.Thread(target=threaded_withdraw_mary, name='Mary') #no args since we compute the amount in the method itself. "
   ]
  },
  {
   "cell_type": "markdown",
   "metadata": {},
   "source": [
    "Let's carry out all transactions one after the other and check the balance after each step."
   ]
  },
  {
   "cell_type": "code",
   "execution_count": null,
   "metadata": {},
   "outputs": [],
   "source": [
    "balance = 100\n",
    "print('initial balance is {}'.format(balance))\n",
    "transaction_john.start()\n",
    "transaction_john.join()\n",
    "print('balance after John is {}'.format(balance))\n",
    "transaction_paul.start()\n",
    "transaction_paul.join()\n",
    "print('balance after Paul is {}'.format(balance))\n",
    "transaction_mary.start()\n",
    "transaction_mary.join()\n",
    "print('balance after Mary is {}'.format(balance))"
   ]
  },
  {
   "cell_type": "markdown",
   "metadata": {},
   "source": [
    "<hr/>\n",
    "### Exercise 3\n",
    "\n",
    "Change the order in which the transactions are executed. Reproduce all 6 permutations of John, Paul, Mary that we discussed in the tutorial session. You will have to create a new cell in the notebook: From the \"Insert\" menu, use the command \"Insert Cell below\" to create a new cell. Copy the code above into the new cell using copy and paste. "
   ]
  },
  {
   "cell_type": "markdown",
   "metadata": {},
   "source": [
    "<hr/>"
   ]
  },
  {
   "cell_type": "markdown",
   "metadata": {},
   "source": [
    "### 2.2 Using `multiprocessing`\n",
    "\n",
    "The `multiprocessing` library provides classes and functions to manage concurrent programming using processes that are executed in parallel. \n",
    "\n",
    "To use the multiprocessing library, we first have to import it:"
   ]
  },
  {
   "cell_type": "code",
   "execution_count": null,
   "metadata": {},
   "outputs": [],
   "source": [
    "import multiprocessing as mp"
   ]
  },
  {
   "cell_type": "markdown",
   "metadata": {},
   "source": [
    "Please take a minute to take a look at the documentation of the `Process` class in the `multiprocessing` module:"
   ]
  },
  {
   "cell_type": "code",
   "execution_count": null,
   "metadata": {},
   "outputs": [],
   "source": [
    "mp.Process?"
   ]
  },
  {
   "cell_type": "markdown",
   "metadata": {},
   "source": [
    "Doesn't say much, eh? But actually it says all we need: \n",
    "\n",
    "```The class is analogous to 'threading.Thread'.```\n",
    "\n",
    "Therefore we can construct `Process` objects in the same way that we construct `Thread` objects, i.e. by passing a callable object to the constructor.\n",
    "\n",
    "Unfortunately, due to a particular behavior of the Windows operating system, we can't just define the functions in the interactive notebook, as we did for the Threading example. We must define them in a file that we import.\n",
    "\n",
    "Below are the contents of the `withdraw_process.py` file that you downloaded at the beginning of the session. Note that this is not an executable cell, but rather a text cell with syntax highlighting. In that file we define the the `withdraw` functions for use with the `multiprocessing` module. Please take a minute to look at the contents: "
   ]
  },
  {
   "cell_type": "markdown",
   "metadata": {
    "collapsed": true
   },
   "source": [
    "```python\n",
    "import multiprocessing as mp\n",
    "\n",
    "def mp_withdraw(amount, balance):\n",
    "    if (balance.value >= amount):\n",
    "        print(\"{} sees balance {}, withdraws {}\".format(mp.current_process(),\n",
    "                                                        balance.value,\n",
    "                                                        amount))\n",
    "        balance.value = balance.value - amount \n",
    "        return True\n",
    "    return False\n",
    "\n",
    "def mp_withdraw_mary(balance):\n",
    "    amount = balance.value//2\n",
    "    if (balance.value >= amount):\n",
    "        print(\"{} sees balance {}, withdraws {}\".format(mp.current_process(),\n",
    "                                                        balance.value,\n",
    "                                                        amount))\n",
    "        balance.value = balance.value - amount \n",
    "        return True\n",
    "    return False\n",
    "\n",
    "def make_initial_balance():\n",
    "    balance = mp.Value('i', 100) # 'i' refers to the type, it's an integer\n",
    "    return balance\n",
    "\n",
    "def make_processes():\n",
    "    balance = make_initial_balance()\n",
    "    transaction_john = mp.Process(target=mp_withdraw, args=(-10, balance), name='John')\n",
    "    transaction_paul = mp.Process(target=mp_withdraw, args=(20, balance), name='Paul')\n",
    "    transaction_mary = mp.Process(target=mp_withdraw_mary, args=(balance,), name='Mary')\n",
    "    return transaction_john, transaction_paul, transaction_mary, balance```\n"
   ]
  },
  {
   "cell_type": "markdown",
   "metadata": {},
   "source": [
    "You will have notices the `mp_withdraw` and `mp_withdraw_mary` functions that are very similar to the threaded functions that we used above. But there are also a few important differences. First, there is an additional agrument in the function signature, `balance`.\n",
    "\n",
    "The reason is that we can't use `global` to share data between processes. Each process has its own encapsulated data and we can't just access the `balance` variable from another process. Therefore we use the `Value` class provided by the `multiprocessing` module, which provides the functionality we need. Have a second look at the `make_initial_balance` function where we create the `balance` variable as an instance of the `Value` class with type `'i'` (for integer) and value 100.\n",
    "\n",
    "The second difference is a helper function called `make_processes` that creates the processes and the balance (as an instance of `Value`) for us. This simplifies the usage of this module. \n",
    "\n",
    "We will next import the `withdraw_process` file as a module:"
   ]
  },
  {
   "cell_type": "code",
   "execution_count": null,
   "metadata": {},
   "outputs": [],
   "source": [
    "import withdraw_processes as wp"
   ]
  },
  {
   "cell_type": "code",
   "execution_count": null,
   "metadata": {},
   "outputs": [],
   "source": [
    "wp.mp_withdraw?"
   ]
  },
  {
   "cell_type": "markdown",
   "metadata": {},
   "source": [
    "All we need to do now is to call the `make_processes` function in the `withdraw_processes` module, and then call the `start()` method of each process."
   ]
  },
  {
   "cell_type": "code",
   "execution_count": null,
   "metadata": {},
   "outputs": [],
   "source": [
    "john, paul, mary, balance = wp.make_processes()\n",
    "\n",
    "print('initial balance is {}'.format(balance.value))\n",
    "john.start()\n",
    "paul.start()\n",
    "mary.start()\n",
    "john.join()\n",
    "paul.join()\n",
    "mary.join()\n",
    "print('final balance is {}'.format(balance.value))"
   ]
  },
  {
   "cell_type": "markdown",
   "metadata": {},
   "source": [
    "<hr/>\n",
    "### Exercise 4\n",
    "\n",
    "Run the above cell at least 10 times. \n",
    " * Is the final balance always the same? \n",
    "\n",
    "__Note__: On windows, only the initial and final balance are shown in the notebook. The outputs of the processes will appear in the console window behind the notebook.\n",
    "\n",
    "<br/>\n",
    "<hr/>"
   ]
  },
  {
   "cell_type": "markdown",
   "metadata": {},
   "source": [
    "### Exercise 5\n",
    "\n",
    "Have a look at the code in the cell below. It does essentially the same as the code for exercise 4. The only difference is that calls to `start()` and `join()` are now interleaved. Run that code several times.\n",
    " * Does the final balance ever vary?\n",
    " * Do John, Paul and Mary always see the same balance?\n",
    " * Why does the balance not vary as in exercise 4?"
   ]
  },
  {
   "cell_type": "code",
   "execution_count": null,
   "metadata": {},
   "outputs": [],
   "source": [
    "john, paul, mary, balance = wp.make_processes()\n",
    "\n",
    "print('initial balance is {}'.format(balance.value))\n",
    "john.start()\n",
    "john.join()\n",
    "paul.start()\n",
    "paul.join()\n",
    "mary.start()\n",
    "mary.join()\n",
    "print('final balance is {}'.format(balance.value))"
   ]
  },
  {
   "cell_type": "markdown",
   "metadata": {},
   "source": [
    "## 3 Wrapping it up\n",
    "\n",
    "In this session you have learned about the two central modules that support concurrent programming in Python, `threading` and `multiprocessing`. \n",
    "\n",
    "### 3.1 Lesson 1: Shared state without synchronisation is problematic.\n",
    "We have studied a practical example of concurrent banking transactions in which we  deliberately used a shared state variable (\"balance\") without proper synchronisation. The problem that this causes is that the variable's value will be different depending on the order of execution of the concurrent threads (Exercise 3) or processes (Exercise 4). The programmer has no control over the order in which concurrent threads or processes are executed. Therefore, __you should never write concurrent code without ensuring proper synchronisation!__\n",
    "\n",
    "### 3.2 Lesson 2: There are differences between `threading` and `multiprocessing` \n",
    "The `threading` module works with threads, that is, the local variables are still visible in the context of the threads. That's why we can use the `global` statement to share variables between threads. (Did we mention that doing so without proper synchronisation is to be avoided?) \n",
    "\n",
    "The `multiprocessing` module uses processes, which means that the code that is executed in separate processes cannot by default access code in other processes. Any sharing of values must happen through specific means, like e.g. the  `Value` class that we used. \n",
    "\n",
    "### 3.3 Outlook\n",
    "The `multiprocessing` and `threading` modules provides many more means to synchronise state between threads and processes. We will learn about some of those in the next session.\n",
    "\n"
   ]
  }
 ],
 "metadata": {
  "anaconda-cloud": {},
  "kernelspec": {
   "display_name": "Python 3",
   "language": "python",
   "name": "python3"
  },
  "language_info": {
   "codemirror_mode": {
    "name": "ipython",
    "version": 3
   },
   "file_extension": ".py",
   "mimetype": "text/x-python",
   "name": "python",
   "nbconvert_exporter": "python",
   "pygments_lexer": "ipython3",
   "version": "3.8.8"
  }
 },
 "nbformat": 4,
 "nbformat_minor": 1
}
