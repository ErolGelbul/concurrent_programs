{
 "cells": [
  {
   "cell_type": "markdown",
   "metadata": {},
   "source": [
    "## 6COM1034 Concurrency - Practical\n",
    "# 02 - Semaphores and Mutexes"
   ]
  },
  {
   "cell_type": "markdown",
   "metadata": {},
   "source": [
    "Python's `threading` module has a nice collection of tools for concurrent programming. Last week we learned about the essential component - the `Thread` class (and, the `Process` class in the `multiprocessing` module). Today we are going to learn about some of the tools it offers for process synchronisation.\n",
    "\n",
    "## Learning outcomes\n",
    "\n",
    " 1. Using semaphores in concurrent Python: the `Semaphore` class\n",
    " 2. Binary semaphores: the `Lock` class\n",
    " 3. Mutexes: the `RLock` class\n",
    " "
   ]
  },
  {
   "cell_type": "markdown",
   "metadata": {},
   "source": [
    "## 1. Semaphores: the Producer/Consumer pattern \n",
    "\n",
    "We'll play with the Producer/Consumer Pattern that you have seen in the lecture.\n",
    "\n",
    "The producer makes items and puts them into an array to store them. The storage has limited space, and we want only to be 5 items in storage at maximum. The producer can only make new items if there is space in storage. \n",
    "\n",
    "The consumer takes items from the storage array. The consumer can only take items if the storage array is not empty.\n",
    "\n",
    "We'll use a `list` for storage and `Semaphore` objects from the `threading` class to synchronise the consumer and producer threads. "
   ]
  },
  {
   "cell_type": "code",
   "execution_count": 14,
   "metadata": {},
   "outputs": [],
   "source": [
    "import threading as th # python threading \n",
    "import random \n",
    "\n",
    "storage = [] # this is our storage list\n",
    "\n",
    "storage_size = 5"
   ]
  },
  {
   "cell_type": "markdown",
   "metadata": {},
   "source": [
    "We will use two __`Semaphore`__ objects to represent the state of the storage:\n",
    "\n",
    "1. `space_left`: Indicates whether there's space left in storage. Initialised with the storage size. \n",
    "2. `items_left`: Indicates whether there are items left in storage. Initialised with `0`."
   ]
  },
  {
   "cell_type": "code",
   "execution_count": 15,
   "metadata": {},
   "outputs": [],
   "source": [
    "space_left = th.Semaphore(storage_size)\n",
    "items_left = th.Semaphore(0)"
   ]
  },
  {
   "cell_type": "markdown",
   "metadata": {},
   "source": [
    "Finally, we also need to make sure that only one thread accesses the queue at one time. We use a __binary semaphore__ for this. In Python, this is implemented by the `Lock` class."
   ]
  },
  {
   "cell_type": "code",
   "execution_count": 10,
   "metadata": {},
   "outputs": [],
   "source": [
    "use_storage = th.Lock()"
   ]
  },
  {
   "cell_type": "markdown",
   "metadata": {},
   "source": [
    "We will need functions `produce` and `consume` that the producer and consumer threads will run. \n",
    "\n",
    "The `produce` function should do the following:\n",
    "\n",
    "2. Make sure that there's space in storage, by acquiring the `space_left` semaphore.\n",
    "1. Acquire the `Lock` on the storage, i.e. acquire the `use_storage` binary semaphore.\n",
    "3. Put an item into storage.\n",
    "5. Release the `use_storage` lock. \n",
    "5. Indicate that there is one more item in storage, by releasing the `items_left` semaphore.\n",
    "4. `sleep()` for a little while (producing is exhausting!! ;) ).\n",
    "\n",
    "5. Repeat from step 1.\n",
    "\n",
    "In addition, we'll stop after producing 10 items."
   ]
  },
  {
   "cell_type": "code",
   "execution_count": 16,
   "metadata": {},
   "outputs": [],
   "source": [
    "import time\n",
    "import random\n",
    "\n",
    "def produce(space_left, items_left, use_storage):\n",
    "    global storage\n",
    "    prod_count = 0\n",
    "    while(prod_count < 10):\n",
    "        space_left.acquire()\n",
    "        use_storage.acquire()\n",
    "        item = prod_count\n",
    "        storage.append(item)\n",
    "        prod_count += 1\n",
    "        print(\"Producer made item '{}'. {} items left in storage.\".format(item, len(storage)))\n",
    "        use_storage.release()    \n",
    "        items_left.release()\n",
    "        time.sleep(random.random()*0.25) # sleep for at most half a second\n",
    "\n"
   ]
  },
  {
   "cell_type": "markdown",
   "metadata": {},
   "source": [
    "Likewise, the `consume` function should:\n",
    "\n",
    "2. Acquire the `items_left` semaphore to make sure that there is an item in storage.\n",
    "1. Acquire the lock on the storage.\n",
    "3. Get an item from storage.\n",
    "5. Release the `space_left` semaphore, since we just made space for another item in storage.\n",
    "6. Release the lock on the storage.\n",
    "7. Repeat from step 1. \n",
    "2. `sleep()` for a little while. \n",
    "\n",
    "\n",
    "We'll stop after having consumed 10 items."
   ]
  },
  {
   "cell_type": "code",
   "execution_count": 17,
   "metadata": {},
   "outputs": [],
   "source": [
    "def consume(space_left, items_left, use_storage):\n",
    "    global storage\n",
    "    cons_count = 0\n",
    "    while(cons_count < 10):\n",
    "        items_left.acquire()\n",
    "        use_storage.acquire()\n",
    "        item = storage.pop(0)\n",
    "        cons_count += 1\n",
    "        print(\"Consumer ate  item '{}'. {} items left in storage.\".format(item, len(storage)))\n",
    "        use_storage.release()    \n",
    "        space_left.release()\n",
    "        time.sleep(random.random()*0.51) # sleep for at most half a second\n",
    "\n"
   ]
  },
  {
   "cell_type": "markdown",
   "metadata": {},
   "source": [
    "<hr/>\n",
    "### Exercise 1\n",
    "\n",
    "Time to put it all together and run the example. Please run the code below to create the threads and run them. \n",
    "\n",
    "Note how the sequence of producing and consuming items interleaves."
   ]
  },
  {
   "cell_type": "code",
   "execution_count": 18,
   "metadata": {},
   "outputs": [
    {
     "name": "stdout",
     "output_type": "stream",
     "text": [
      "Producer made item '0'. 1 items left in storage.\n",
      "Consumer ate  item '0'. 0 items left in storage.\n",
      "Producer made item '1'. 1 items left in storage.\n",
      "Consumer ate  item '1'. 0 items left in storage.\n",
      "Producer made item '2'. 1 items left in storage.\n",
      "Producer made item '3'. 2 items left in storage.\n",
      "Consumer ate  item '2'. 1 items left in storage.\n",
      "Producer made item '4'. 2 items left in storage.\n",
      "Producer made item '5'. 3 items left in storage.\n",
      "Producer made item '6'. 4 items left in storage.\n",
      "Producer made item '7'. 5 items left in storage.\n",
      "Consumer ate  item '3'. 4 items left in storage.\n",
      "Consumer ate  item '4'. 3 items left in storage.\n",
      "Producer made item '8'. 4 items left in storage.\n",
      "Consumer ate  item '5'. 3 items left in storage.\n",
      "Producer made item '9'. 4 items left in storage.\n",
      "Consumer ate  item '6'. 3 items left in storage.\n",
      "Consumer ate  item '7'. 2 items left in storage.\n",
      "Consumer ate  item '8'. 1 items left in storage.\n",
      "Consumer ate  item '9'. 0 items left in storage.\n"
     ]
    }
   ],
   "source": [
    "producer = th.Thread(target=produce, args=(space_left, items_left, use_storage))\n",
    "consumer = th.Thread(target=consume, args=(space_left, items_left, use_storage))\n",
    "producer.start()\n",
    "consumer.start()\n",
    "producer.join()\n",
    "consumer.join()"
   ]
  },
  {
   "cell_type": "markdown",
   "metadata": {},
   "source": [
    "\n",
    "<hr/>"
   ]
  },
  {
   "cell_type": "markdown",
   "metadata": {},
   "source": [
    "### Exercise 2\n",
    "\n",
    "Modify the code of the first cell in this notebook so that the storage has space only for one item. Execute all cells from the top to make all code pick up this change. Run the code from exercise 1 several times and observe the sequence of items that are produced and consumed. Do you see any interleaving? If not, why not?\n",
    "\n",
    "__NOTE__: It can happen that your program stalls due to a programming error. You will notice that the indicator next to the cell that executes the threaded code says __`In [*]:`__ and stays like this indefinitely. In this case, __press the `0` key twice. __ This will reset your kernel. You need to execute the notebook again from the beginning. \n",
    "\n",
    "<br/>\n",
    "<hr/>"
   ]
  },
  {
   "cell_type": "markdown",
   "metadata": {},
   "source": [
    "## 2. Mutex: The rubber chicken"
   ]
  },
  {
   "cell_type": "markdown",
   "metadata": {
    "collapsed": true
   },
   "source": [
    "Next we will implement the \"rubber chicken\" metaphor that we discussed in the tutorial. From the lecture slides:\n",
    "\n",
    "<blockquote>To prevent interruptions during work meetings, suppose the meeting has a rule that a person holding a token is the only one allowed to talk.  A rubber chicken is kept in the meeting for just such occasions. The person holding the chicken is the only person who is allowed to talk. If you don't hold the chicken you cannot speak. You can only indicate that you want the chicken by holding out your hand and wait until you get it before you speak. Once you have finished speaking, you can hand the chicken back to the moderator who will hand it to the next person to speak. This ensures that people do not speak over each other, and also have their own space to talk.</blockquote>\n",
    "\n",
    "For an implementation we need:\n",
    "\n",
    "2. Several persons, implemented as concurrent threads, that try to contribute something to the meeting.\n",
    "1. A mutex that stands for the rubber chicken.\n",
    "\n",
    "Let's get started! First we need names of people attending the meeting and their contribution. (Note: Any similarity with actual business meetings is purely coincidental.)"
   ]
  },
  {
   "cell_type": "code",
   "execution_count": 19,
   "metadata": {},
   "outputs": [],
   "source": [
    "names_and_phrases = {\"Linda\": \"We need to do more with less.\",\n",
    "                     \"Jeff\": \"I see your point.\",\n",
    "                     \"Jack\": \"I'm cautiously optimistic.\",\n",
    "                     \"Pat\": \"It is what it is.\",\n",
    "                     \"George\": \"Take it to the next level.\",\n",
    "                     \"Janis\": \"It's a low-hanging fruit.\",\n",
    "                     \"Helen\": \"We need to think outside the box!\"}"
   ]
  },
  {
   "cell_type": "markdown",
   "metadata": {},
   "source": [
    "Next we implement the `say_something` function, that the threads will use. Out of politeness each speaker waits for a fraction of a second before they try to grab the rubber chicken."
   ]
  },
  {
   "cell_type": "code",
   "execution_count": 20,
   "metadata": {},
   "outputs": [],
   "source": [
    "def say_something(rubber_chicken, name, phrase):\n",
    "    time.sleep(random.random()*0.5) # politely wait a little before trying to grab the rubber chicken\n",
    "    rubber_chicken.acquire()\n",
    "    print(\"{} says: '{}'\".format(name, phrase))\n",
    "    rubber_chicken.release()"
   ]
  },
  {
   "cell_type": "markdown",
   "metadata": {},
   "source": [
    "Python's `threading` module provides the mutex functionality in the form of the `RLock` class. Let's use this:"
   ]
  },
  {
   "cell_type": "code",
   "execution_count": 22,
   "metadata": {},
   "outputs": [],
   "source": [
    "rubber_chicken = th.RLock()"
   ]
  },
  {
   "cell_type": "markdown",
   "metadata": {},
   "source": [
    "Finally, we make all threads, one for each person, `start()` them, and `join()` them when they're finished."
   ]
  },
  {
   "cell_type": "code",
   "execution_count": 25,
   "metadata": {},
   "outputs": [
    {
     "name": "stdout",
     "output_type": "stream",
     "text": [
      "Janis says: 'It's a low-hanging fruit.'\n",
      "Helen says: 'We need to think outside the box!'\n",
      "Pat says: 'It is what it is.'\n",
      "George says: 'Take it to the next level.'\n",
      "Jack says: 'I'm cautiously optimistic.'\n",
      "Linda says: 'We need to do more with less.'\n",
      "Jeff says: 'I see your point.'\n"
     ]
    }
   ],
   "source": [
    "threads = []\n",
    "for name,phrase in names_and_phrases.items():\n",
    "    threads.append(th.Thread(target=say_something, args=(rubber_chicken, name, phrase)))\n",
    "\n",
    "for thread in threads:\n",
    "    thread.start()\n",
    "for thread in threads:\n",
    "    thread.join()"
   ]
  },
  {
   "cell_type": "markdown",
   "metadata": {},
   "source": [
    "<hr/>\n",
    "### Exercise 3\n",
    "\n",
    "Run the above example a couple of times. \n",
    "\n",
    "You should observe that the sequence is changing every time. This is due to the small wait period at the beginning of the `say_something` function. \n",
    "\n",
    "<br/>\n",
    "<hr/>"
   ]
  },
  {
   "cell_type": "markdown",
   "metadata": {},
   "source": [
    "## 2.1 Mutexes are exclusive\n",
    "\n",
    "The key functionality of a Mutex is that only the thread that acquired it can release it.\n",
    "\n",
    "Please take a minute to look up the documentation of the `RLock`:\n",
    "\n",
    "(Reminder: The __'`q`'__ key closes the documentation window again)."
   ]
  },
  {
   "cell_type": "code",
   "execution_count": 25,
   "metadata": {},
   "outputs": [],
   "source": [
    "th.RLock?"
   ]
  },
  {
   "cell_type": "markdown",
   "metadata": {},
   "source": [
    "The key sentence here is \n",
    "<blockquote>A reentrant lock __must be released by the thread that acquired it__.</blockquote>\n",
    "\n",
    "This is what sets it apart from the `Lock` class, which is essentially a binary semaphore. "
   ]
  },
  {
   "cell_type": "markdown",
   "metadata": {},
   "source": [
    "But let's see what happens when we violate that principle. Let's consider a minor change in our little business scenario:\n",
    "\n",
    "<blockquote>In our small business, the investors have recently appointed a new CEO, Bruce, who should get the business to make more money fast. Bruce is sometimes a bit rude and doesn't want to wait until people release the rubber chicken. He tries to grab the chicken and say his phrase before the others have finished. </blockquote>\n",
    "\n",
    "You might have guessed it already - Bruce is going to have a hard time trying this with a mutex. But let's see how it goes. First we need a `say_something()` function for Bruce that tries to do the `threading`-equivalent of grabbing the chicken, namely to release the mutex before acquiring it. "
   ]
  },
  {
   "cell_type": "code",
   "execution_count": 26,
   "metadata": {},
   "outputs": [],
   "source": [
    "def bruce_says_something(rubber_chicken, name, phrase):\n",
    "    time.sleep(random.random()*0.5) \n",
    "    rubber_chicken.release() # this is the act of prying the chicken from someone else's hands\n",
    "    rubber_chicken.acquire()\n",
    "    print(\"{} says: '{}'\".format(name, phrase))\n",
    "    rubber_chicken.release()"
   ]
  },
  {
   "cell_type": "markdown",
   "metadata": {},
   "source": [
    "Let's make threads again as above, making a special one for Bruce, and run them:"
   ]
  },
  {
   "cell_type": "code",
   "execution_count": 28,
   "metadata": {},
   "outputs": [
    {
     "name": "stdout",
     "output_type": "stream",
     "text": [
      "Pat says: 'It is what it is.'\n",
      "Helen says: 'We need to think outside the box!'\n",
      "George says: 'Take it to the next level.'\n",
      "Janis says: 'It's a low-hanging fruit.'\n",
      "Jack says: 'I'm cautiously optimistic.'\n",
      "Linda says: 'We need to do more with less.'\n",
      "Jeff says: 'I see your point.'\n"
     ]
    },
    {
     "name": "stderr",
     "output_type": "stream",
     "text": [
      "Exception in thread Bruce:\n",
      "Traceback (most recent call last):\n",
      "  File \"/opt/anaconda3/lib/python3.7/threading.py\", line 926, in _bootstrap_inner\n",
      "    self.run()\n",
      "  File \"/opt/anaconda3/lib/python3.7/threading.py\", line 870, in run\n",
      "    self._target(*self._args, **self._kwargs)\n",
      "  File \"<ipython-input-26-d5a5e2f7a4a7>\", line 3, in bruce_says_something\n",
      "    rubber_chicken.release() # this is the act of prying the chicken from someone else's hands\n",
      "RuntimeError: cannot release un-acquired lock\n",
      "\n"
     ]
    }
   ],
   "source": [
    "threads = []\n",
    "for name,phrase in names_and_phrases.items():\n",
    "    threads.append(th.Thread(target=say_something, args=(rubber_chicken, name, phrase)))\n",
    "# here comes Bruce\n",
    "threads.append(th.Thread(name=\"Bruce\", target=bruce_says_something, args=(rubber_chicken, \"Bruce\", \"You're fired!\")))\n",
    "    \n",
    "for thread in threads:\n",
    "    thread.start()\n",
    "for thread in threads:\n",
    "    thread.join()"
   ]
  },
  {
   "cell_type": "markdown",
   "metadata": {},
   "source": [
    "### Exercise 4\n",
    "\n",
    "\n",
    "Observe what happens to Bruce. Have a look at the error message. This is Python's way to politely remind Bruce to wait for his turn to speak!"
   ]
  }
 ],
 "metadata": {
  "anaconda-cloud": {},
  "kernelspec": {
   "display_name": "Python 3",
   "language": "python",
   "name": "python3"
  },
  "language_info": {
   "codemirror_mode": {
    "name": "ipython",
    "version": 3
   },
   "file_extension": ".py",
   "mimetype": "text/x-python",
   "name": "python",
   "nbconvert_exporter": "python",
   "pygments_lexer": "ipython3",
   "version": "3.7.4"
  }
 },
 "nbformat": 4,
 "nbformat_minor": 1
}
